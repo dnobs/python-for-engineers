{
  "nbformat": 4,
  "nbformat_minor": 0,
  "metadata": {
    "colab": {
      "name": "Untitled2.ipynb",
      "provenance": [],
      "toc_visible": true,
      "authorship_tag": "ABX9TyPk9rvw52EH9T7FPxtrQCO+",
      "include_colab_link": true
    },
    "kernelspec": {
      "name": "python3",
      "display_name": "Python 3"
    }
  },
  "cells": [
    {
      "cell_type": "markdown",
      "metadata": {
        "id": "view-in-github",
        "colab_type": "text"
      },
      "source": [
        "<a href=\"https://colab.research.google.com/github/dnobs/python-for-engineers/blob/main/jupyter_notebook.ipynb\" target=\"_parent\"><img src=\"https://colab.research.google.com/assets/colab-badge.svg\" alt=\"Open In Colab\"/></a>"
      ]
    },
    {
      "cell_type": "markdown",
      "metadata": {
        "id": "o1baxCo7UP8Z"
      },
      "source": [
        "# Basic Operations\n"
      ]
    },
    {
      "cell_type": "markdown",
      "metadata": {
        "id": "sSoJ3UgAVXuA"
      },
      "source": [
        "## Equation of a line"
      ]
    },
    {
      "cell_type": "code",
      "metadata": {
        "id": "XVuXcHmjUPLj",
        "outputId": "95b548a6-8f4a-43e6-a638-69bb611727e7",
        "colab": {
          "base_uri": "https://localhost:8080/"
        }
      },
      "source": [
        "x = 3\n",
        "m = -2\n",
        "b = 3\n",
        "\n",
        "y = m*x + b\n",
        "print(y)"
      ],
      "execution_count": 2,
      "outputs": [
        {
          "output_type": "stream",
          "text": [
            "-3\n"
          ],
          "name": "stdout"
        }
      ]
    },
    {
      "cell_type": "markdown",
      "metadata": {
        "id": "E35kzrTaVbIx"
      },
      "source": [
        "## Quadratic Formula"
      ]
    },
    {
      "cell_type": "code",
      "metadata": {
        "id": "aRcGYAVcUS6D",
        "outputId": "d17b81a8-4133-4867-b599-e2e3d2659adc",
        "colab": {
          "base_uri": "https://localhost:8080/"
        }
      },
      "source": [
        "a = 20\n",
        "b = 7\n",
        "c = 11\n",
        "\n",
        "from numpy import sqrt\n",
        "x1 = (-b + sqrt(b^2 + 4*a*c)) / (2*a)\n",
        "x2 = (-b - sqrt(b^2 + 4*a*c)) / (2*a)\n",
        "\n",
        "print(x1, x2)"
      ],
      "execution_count": 8,
      "outputs": [
        {
          "output_type": "stream",
          "text": [
            "0.5687237390321759 -0.9187237390321759\n"
          ],
          "name": "stdout"
        }
      ]
    },
    {
      "cell_type": "markdown",
      "metadata": {
        "id": "0aCSHRAeVpMQ"
      },
      "source": [
        "# "
      ]
    },
    {
      "cell_type": "code",
      "metadata": {
        "id": "I01M4QsAX8EI"
      },
      "source": [
        ""
      ],
      "execution_count": null,
      "outputs": []
    },
    {
      "cell_type": "markdown",
      "metadata": {
        "id": "bTv0Et-AYB2q"
      },
      "source": [
        "# Read Data from CSV Files"
      ]
    },
    {
      "cell_type": "code",
      "metadata": {
        "id": "cQk95XhqYGYy"
      },
      "source": [
        ""
      ],
      "execution_count": null,
      "outputs": []
    },
    {
      "cell_type": "markdown",
      "metadata": {
        "id": "0VSPNdxiYObn"
      },
      "source": [
        "## "
      ]
    },
    {
      "cell_type": "code",
      "metadata": {
        "id": "s8OVSwK3YIzP"
      },
      "source": [
        ""
      ],
      "execution_count": null,
      "outputs": []
    },
    {
      "cell_type": "markdown",
      "metadata": {
        "id": "t_rYaD1RYIN3"
      },
      "source": [
        ""
      ]
    }
  ]
}