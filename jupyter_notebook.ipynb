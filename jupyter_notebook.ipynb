{
 "cells": [
  {
   "cell_type": "markdown",
   "metadata": {
    "colab_type": "text",
    "id": "view-in-github"
   },
   "source": [
    "<a href=\"https://colab.research.google.com/github/dnobs/python-for-engineers/blob/main/jupyter_notebook.ipynb\" target=\"_parent\"><img src=\"https://colab.research.google.com/assets/colab-badge.svg\" alt=\"Open In Colab\"/></a>"
   ]
  },
  {
   "cell_type": "markdown",
   "metadata": {
    "id": "o1baxCo7UP8Z"
   },
   "source": [
    "# Basic Operations\n"
   ]
  },
  {
   "cell_type": "markdown",
   "metadata": {
    "id": "sSoJ3UgAVXuA"
   },
   "source": [
    "## Equation of a line"
   ]
  },
  {
   "cell_type": "code",
   "execution_count": 2,
   "metadata": {
    "colab": {
     "base_uri": "https://localhost:8080/"
    },
    "id": "XVuXcHmjUPLj",
    "outputId": "95b548a6-8f4a-43e6-a638-69bb611727e7"
   },
   "outputs": [
    {
     "name": "stdout",
     "output_type": "stream",
     "text": [
      "-3\n"
     ]
    }
   ],
   "source": [
    "x = 3\n",
    "m = -2\n",
    "b = 3\n",
    "\n",
    "y = m*x + b\n",
    "print(y)"
   ]
  },
  {
   "cell_type": "markdown",
   "metadata": {
    "id": "E35kzrTaVbIx"
   },
   "source": [
    "## Quadratic Formula"
   ]
  },
  {
   "cell_type": "code",
   "execution_count": 8,
   "metadata": {
    "colab": {
     "base_uri": "https://localhost:8080/"
    },
    "id": "aRcGYAVcUS6D",
    "outputId": "d17b81a8-4133-4867-b599-e2e3d2659adc"
   },
   "outputs": [
    {
     "name": "stdout",
     "output_type": "stream",
     "text": [
      "0.5687237390321759 -0.9187237390321759\n"
     ]
    }
   ],
   "source": [
    "a = 20\n",
    "b = 7\n",
    "c = 11\n",
    "\n",
    "from numpy import sqrt\n",
    "x1 = (-b + sqrt(b^2 + 4*a*c)) / (2*a)\n",
    "x2 = (-b - sqrt(b^2 + 4*a*c)) / (2*a)\n",
    "\n",
    "print(x1, x2)"
   ]
  },
  {
   "cell_type": "markdown",
   "metadata": {
    "id": "0aCSHRAeVpMQ"
   },
   "source": [
    "# "
   ]
  },
  {
   "cell_type": "markdown",
   "metadata": {},
   "source": [
    "## Transfer Functions And Bode Plots"
   ]
  },
  {
   "cell_type": "code",
   "execution_count": null,
   "metadata": {},
   "outputs": [],
   "source": [
    "# Bode plots need transfer functions as inputs\n",
    "# https://docs.scipy.org/doc/scipy/reference/generated/scipy.signal.bode.html"
   ]
  },
  {
   "cell_type": "code",
   "execution_count": 11,
   "metadata": {},
   "outputs": [
    {
     "data": {
      "image/png": "[encoded data removed]",
      "text/plain": [
       "<Figure size 432x288 with 1 Axes>"
      ]
     },
     "metadata": {
      "needs_background": "light"
     },
     "output_type": "display_data"
    },
    {
     "data": {
      "image/png": "[encoded data removed]",
      "text/plain": [
       "<Figure size 432x288 with 1 Axes>"
      ]
     },
     "metadata": {
      "needs_background": "light"
     },
     "output_type": "display_data"
    }
   ],
   "source": [
    "from scipy import signal\n",
    "import matplotlib.pyplot as plt\n",
    "\n",
    "sys = signal.TransferFunction([1], [1, 1])\n",
    "w, mag, phase = signal.bode(sys)\n",
    "\n",
    "plt.figure()\n",
    "plt.semilogx(w, mag)    # Bode magnitude plot\n",
    "plt.figure()\n",
    "plt.semilogx(w, phase)  # Bode phase plot\n",
    "plt.show()"
   ]
  },
  {
   "cell_type": "code",
   "execution_count": null,
   "metadata": {
    "id": "I01M4QsAX8EI"
   },
   "outputs": [],
   "source": [
    "# According to this paper, s = jw, so H(s) = Vout / Vin, where Vout and Vin are complex numbers and s = jw\n",
    "# Given this, we can use python to effectively solve and plot some crazy stuff\n",
    "# http://www.winlab.rutgers.edu/~crose/221_html/Chaoter-9-Transfer-function-emhasis%20copy.pdf"
   ]
  },
  {
   "cell_type": "markdown",
   "metadata": {
    "id": "bTv0Et-AYB2q"
   },
   "source": [
    "# Play with TikTok"
   ]
  },
  {
   "cell_type": "code",
   "execution_count": 12,
   "metadata": {
    "id": "cQk95XhqYGYy"
   },
   "outputs": [
    {
     "name": "stdout",
     "output_type": "stream",
     "text": [
      "Requirement already satisfied: TikTokApi in /home/dave/miniconda3/envs/env_py4eng/lib/python3.9/site-packages (3.8.9)\n",
      "Requirement already satisfied: selenium-stealth in /home/dave/miniconda3/envs/env_py4eng/lib/python3.9/site-packages (from TikTokApi) (1.0.6)\n",
      "Requirement already satisfied: requests in /home/dave/miniconda3/envs/env_py4eng/lib/python3.9/site-packages (from TikTokApi) (2.25.1)\n",
      "Requirement already satisfied: selenium in /home/dave/miniconda3/envs/env_py4eng/lib/python3.9/site-packages (from TikTokApi) (3.141.0)\n",
      "Requirement already satisfied: playwright in /home/dave/miniconda3/envs/env_py4eng/lib/python3.9/site-packages (from TikTokApi) (0.171.1)\n",
      "Requirement already satisfied: greenlet==1.0a1 in /home/dave/miniconda3/envs/env_py4eng/lib/python3.9/site-packages (from playwright->TikTokApi) (1.0a1)\n",
      "Requirement already satisfied: typing-extensions in /home/dave/miniconda3/envs/env_py4eng/lib/python3.9/site-packages (from playwright->TikTokApi) (3.7.4.3)\n",
      "Requirement already satisfied: pyee>=8.0.1 in /home/dave/miniconda3/envs/env_py4eng/lib/python3.9/site-packages (from playwright->TikTokApi) (8.1.0)\n",
      "Requirement already satisfied: chardet<5,>=3.0.2 in /home/dave/miniconda3/envs/env_py4eng/lib/python3.9/site-packages (from requests->TikTokApi) (4.0.0)\n",
      "Requirement already satisfied: urllib3<1.27,>=1.21.1 in /home/dave/miniconda3/envs/env_py4eng/lib/python3.9/site-packages (from requests->TikTokApi) (1.26.2)\n",
      "Requirement already satisfied: idna<3,>=2.5 in /home/dave/miniconda3/envs/env_py4eng/lib/python3.9/site-packages (from requests->TikTokApi) (2.10)\n",
      "Requirement already satisfied: certifi>=2017.4.17 in /home/dave/miniconda3/envs/env_py4eng/lib/python3.9/site-packages (from requests->TikTokApi) (2020.12.5)\n"
     ]
    }
   ],
   "source": [
    "!pip install TikTokApi"
   ]
  },
  {
   "cell_type": "code",
   "execution_count": 13,
   "metadata": {
    "id": "s8OVSwK3YIzP"
   },
   "outputs": [],
   "source": [
    "from TikTokApi import TikTokApi\n",
    "\n",
    "api = TikTokApi.get_instance(use_test_endpoints=True)\n",
    "\n",
    "data = api.get_video_no_watermark('https://www.tiktok.com/@gordonramsayofficial/video/6910298199769009414?lang=en')\n",
    "\n",
    "with open(\"test.mp4\", \"wb\") as out:\n",
    "    out.write(data)"
   ]
  },
  {
   "cell_type": "markdown",
   "metadata": {},
   "source": [
    "# Riemann Hypothesis"
   ]
  },
  {
   "cell_type": "code",
   "execution_count": 41,
   "metadata": {},
   "outputs": [
    {
     "name": "stderr",
     "output_type": "stream",
     "text": [
      "100%|██████████| 100/100 [03:27<00:00,  2.07s/it]\n"
     ]
    }
   ],
   "source": [
    "# based on explaination found on youtube: https://www.youtube.com/watch?v=zlm1aajH6gY\n",
    "import numpy as np\n",
    "from tqdm import tqdm\n",
    "\n",
    "def zeta(s, max=100):\n",
    "    return sum([1/(x+1)**s for x in range(int(max))])\n",
    "\n",
    "zeta(2, max=10e6)\n",
    "\n",
    "x = np.arange(10e3, 10e6, 10e4)\n",
    "y = [zeta(2, max=i) for i in tqdm(x)]"
   ]
  },
  {
   "cell_type": "code",
   "execution_count": 42,
   "metadata": {},
   "outputs": [
    {
     "name": "stdout",
     "output_type": "stream",
     "text": [
      "Collecting matplotlib\n",
      "  Downloading matplotlib-3.3.3-cp39-cp39-macosx_10_9_x86_64.whl (8.5 MB)\n",
      "\u001b[K     |████████████████████████████████| 8.5 MB 3.8 MB/s eta 0:00:01\n",
      "\u001b[?25hRequirement already satisfied: numpy>=1.15 in /opt/anaconda3/envs/sandbox/lib/python3.9/site-packages (from matplotlib) (1.19.5)\n",
      "Requirement already satisfied: pyparsing!=2.0.4,!=2.1.2,!=2.1.6,>=2.0.3 in /opt/anaconda3/envs/sandbox/lib/python3.9/site-packages (from matplotlib) (2.4.7)\n",
      "Requirement already satisfied: python-dateutil>=2.1 in /opt/anaconda3/envs/sandbox/lib/python3.9/site-packages (from matplotlib) (2.8.1)\n",
      "Collecting cycler>=0.10\n",
      "  Using cached cycler-0.10.0-py2.py3-none-any.whl (6.5 kB)\n",
      "Requirement already satisfied: six in /opt/anaconda3/envs/sandbox/lib/python3.9/site-packages (from cycler>=0.10->matplotlib) (1.15.0)\n",
      "Collecting kiwisolver>=1.0.1\n",
      "  Downloading kiwisolver-1.3.1-cp39-cp39-macosx_10_9_x86_64.whl (61 kB)\n",
      "\u001b[K     |████████████████████████████████| 61 kB 1.1 MB/s  eta 0:00:01\n",
      "\u001b[?25hCollecting pillow>=6.2.0\n",
      "  Downloading Pillow-8.1.0-cp39-cp39-macosx_10_10_x86_64.whl (2.2 MB)\n",
      "\u001b[K     |████████████████████████████████| 2.2 MB 45.8 MB/s eta 0:00:01\n",
      "\u001b[?25hInstalling collected packages: pillow, kiwisolver, cycler, matplotlib\n",
      "Successfully installed cycler-0.10.0 kiwisolver-1.3.1 matplotlib-3.3.3 pillow-8.1.0\n"
     ]
    },
    {
     "data": {
      "image/png": "[encoded data removed]",
      "text/plain": [
       "<Figure size 432x288 with 1 Axes>"
      ]
     },
     "metadata": {
      "needs_background": "light"
     },
     "output_type": "display_data"
    }
   ],
   "source": [
    "!pip install matplotlib\n",
    "import matplotlib.pyplot as plt\n",
    "\n",
    "plt.figure()\n",
    "plt.plot(x, y)\n",
    "plt.show()"
   ]
  },
  {
   "cell_type": "code",
   "execution_count": null,
   "metadata": {},
   "outputs": [],
   "source": []
  }
 ],
 "metadata": {
  "colab": {
   "authorship_tag": "ABX9TyPk9rvw52EH9T7FPxtrQCO+",
   "include_colab_link": true,
   "name": "Untitled2.ipynb",
   "provenance": [],
   "toc_visible": true
  },
  "kernelspec": {
   "display_name": "Python 3",
   "language": "python",
   "name": "python3"
  },
  "language_info": {
   "codemirror_mode": {
    "name": "ipython",
    "version": 3
   },
   "file_extension": ".py",
   "mimetype": "text/x-python",
   "name": "python",
   "nbconvert_exporter": "python",
   "pygments_lexer": "ipython3",
   "version": "3.9.1"
  }
 },
 "nbformat": 4,
 "nbformat_minor": 4
}
